{
 "cells": [
  {
   "cell_type": "raw",
   "id": "be04a7f8-5186-443b-9228-fde6d8b28375",
   "metadata": {},
   "source": [
    "---\n",
    "title: \"Homework Assignment 3\"\n",
    "subtitle: \"Bagging\"\n",
    "format: \n",
    "  html:\n",
    "    toc: true\n",
    "    toc-title: Contents\n",
    "    code-fold: show\n",
    "    embed-resources: true\n",
    "jupyter: python3\n",
    "---"
   ]
  },
  {
   "cell_type": "markdown",
   "id": "6d3bdd96-b803-4f03-a97a-c28394f39427",
   "metadata": {},
   "source": [
    "## Instructions\n",
    "\n",
    "1. Do not write your name on the assignment. Be careful about any warnings that might display some file path with your name included.\n",
    "\n",
    "2. You may talk to a friend, discuss the questions and potential directions for solving them. However, you need to write your own solutions and code separately, and not as a group activity.\n",
    "\n",
    "3. You are expected to carefully read and comply with the [generative AI policy](https://canvas.northwestern.edu/courses/233157/pages/generative-ai-policy?module_item_id=3421526) of this course.\n",
    "\n",
    "4. Write your code in the *Code* cells and print the instructed output. If you are instructed to explain something in words, write your answer in the *Markdown* cells of the Jupyter notebook. Ensure that the solution is coded and/or written neatly enough to understand and grade.\n",
    "\n",
    "5. Use [Quarto](https://quarto.org/docs/output-formats/html-basics.html) to render the *.ipynb* file as HTML. You will need to open the command prompt, navigate to the directory containing the file, and use the command: `quarto render filename.ipynb --to html`. Submit the HTML file.\n",
    "\n",
    "6. This assignment is worth 100 points and is due on **May 15, 2025 at 11:59 pm**. \n",
    "\n",
    "7. **Five points given for properly formatting the assignment**. The breakdown is as follows:\n",
    "- The submission must be an HTML file rendered using Quarto. (1 point).\n",
    "- Your name should not be visible in the HTML file (including the file path in any warning that your code returns). (1 point)\n",
    "- There are not excessively long outputs of extraneous information. (e.g. no printouts of entire data frames without good reason; there are not long printouts of which iteration a loop is on; there are not long sections of commented-out code, etc.) (1 point)\n",
    "- Final answers for each question are written in Markdown cells. (1 point).\n",
    "- There is no piece of unnecessary / redundant code, and no unnecessary / redundant text. (1 point)"
   ]
  },
  {
   "cell_type": "code",
   "execution_count": 125,
   "id": "f90d5db1-6755-4bbf-923a-c32492bfe679",
   "metadata": {},
   "outputs": [],
   "source": [
    "import warnings\n",
    "warnings.filterwarnings(\"ignore\")"
   ]
  },
  {
   "cell_type": "code",
   "execution_count": 126,
   "id": "e056dc24",
   "metadata": {},
   "outputs": [],
   "source": [
    "import pandas as pd\n",
    "import numpy as np\n",
    "import matplotlib.pyplot as plt\n",
    "import seaborn as sns\n",
    "import sklearn\n",
    "from sklearn.model_selection import train_test_split\n",
    "from sklearn.metrics import root_mean_squared_error\n",
    "from sklearn.ensemble import BaggingRegressor, BaggingClassifier\n",
    "from sklearn.tree import DecisionTreeRegressor, DecisionTreeClassifier\n",
    "from sklearn.ensemble import RandomForestClassifier, RandomForestRegressor\n",
    "from sklearn.metrics import mean_absolute_error\n",
    "from sklearn.model_selection import GridSearchCV, KFold\n"
   ]
  },
  {
   "cell_type": "markdown",
   "id": "7e26cc69-b19a-4919-b91e-896791b3cb56",
   "metadata": {},
   "source": [
    "## 1) Regression with Bagging (53 points)"
   ]
  },
  {
   "cell_type": "markdown",
   "id": "2aaaf2ea-a160-4764-85dd-463eafb7fc49",
   "metadata": {},
   "source": [
    "In this question, you will use the **miami_housing.csv** file. You can find the description for the variables [here](https://www.kaggle.com/datasets/deepcontractor/miami-housing-dataset).\n",
    "\n",
    "The `SALE_PRC` variable is the regression response and the rest of the variables, except `PARCELNO`, are the predictors."
   ]
  },
  {
   "cell_type": "markdown",
   "id": "b8f28291-45d6-4e3e-bf00-34c60f10c118",
   "metadata": {},
   "source": [
    "### a)\n",
    "\n",
    "Read the dataset. **(1 point)**"
   ]
  },
  {
   "cell_type": "code",
   "execution_count": 127,
   "id": "b9735d6a",
   "metadata": {},
   "outputs": [],
   "source": [
    "miami_data = pd.read_csv(\"/Users/vaibhavrangan/Downloads/Stat_303-3/Datasets/miami-housing.csv\")"
   ]
  },
  {
   "cell_type": "markdown",
   "id": "d20ce964-d327-4314-aa7e-95031f1270e6",
   "metadata": {},
   "source": [
    "### b)\n",
    "\n",
    "Create the training and test datasets with a 60%-40% split and `random_state = 1`. **(1 point)**"
   ]
  },
  {
   "cell_type": "code",
   "execution_count": 128,
   "id": "9b379e10",
   "metadata": {},
   "outputs": [],
   "source": [
    "predictors = miami_data.drop(columns=[\"SALE_PRC\", \"PARCELNO\"], axis=1)\n",
    "response = miami_data[\"SALE_PRC\"]\n",
    "\n",
    "X_train, X_test, y_train, y_test = train_test_split(predictors, response, test_size=0.4, random_state=1)"
   ]
  },
  {
   "cell_type": "markdown",
   "id": "89216b98-2afb-4c64-bae3-6f866d8f7c30",
   "metadata": {},
   "source": [
    "### c) \n",
    "\n",
    "Explain why scaling is not a necessary preprocessing step in this assignment, which is entirely about tree-based models. **(3 points)**"
   ]
  },
  {
   "cell_type": "markdown",
   "id": "0c285d1f",
   "metadata": {},
   "source": [
    "Tree-based models make decisions based on whether or not a feature exceeds a certain threshold (determined at each node) and these thresholds are specific to each feature. Thus, we don't have to scale features to all be comparable since features are only compared to each other. "
   ]
  },
  {
   "cell_type": "markdown",
   "id": "0f02f679-5650-471d-915b-467d74b3b65e",
   "metadata": {},
   "source": [
    "### d)\n",
    "\n",
    "Train a decision tree regressor with `random_state = 1` and all the hyperparameters as **their default values.** Return the training and test Mean Absolute Error (MAE). How do they compare? Why is this the case? **(2 points)**"
   ]
  },
  {
   "cell_type": "code",
   "execution_count": 129,
   "id": "8e0c4c0d",
   "metadata": {},
   "outputs": [
    {
     "name": "stdout",
     "output_type": "stream",
     "text": [
      "Train MAE 16.517127248075926\n",
      "Test MAE 67267.55768885699\n"
     ]
    }
   ],
   "source": [
    "decision_tree_regressor = DecisionTreeRegressor(random_state=1)\n",
    "decision_tree_regressor.fit(X_train, y_train)\n",
    "y_pred_dec_tree_reg = decision_tree_regressor.predict(X_test)\n",
    "\n",
    "train_mae = mean_absolute_error(y_train, decision_tree_regressor.predict(X_train))\n",
    "test_mae = mean_absolute_error(y_test, y_pred_dec_tree_reg)\n",
    "\n",
    "print(\"Train MAE\", train_mae)\n",
    "print(\"Test MAE\", test_mae)"
   ]
  },
  {
   "cell_type": "markdown",
   "id": "904c2baa",
   "metadata": {},
   "source": [
    "Test MAE is much higher than test MAE, likely because the model is overfitting significantly. The train MAE is also really low, likely because the model is memorizing noise in the training data."
   ]
  },
  {
   "cell_type": "markdown",
   "id": "489e207e-0a64-4c5b-8537-7ad3ad4dde7a",
   "metadata": {},
   "source": [
    "### e)\n",
    "\n",
    "Tune a decision tree regressor to get below a **5-fold** cross-validation MAE of $68,000. The requirements are:\n",
    "\n",
    "-  Keep the `random_state` of **any object that takes a `random_state` input** as 1.\n",
    "-  Use the decision tree hyperparameters used in the lectures for consistency.\n",
    "-  Do not use any loops while tuning the decision tree.\n",
    "-  In your final submission, include an actual grid that is run with **at least 500** different hyperparameter combinations. \n",
    "\n",
    "Any solution that fails to meet these requirements will not receive any credit. Note that any other aspects are entirely up to you, including the grid values, how to approach any coarse and/or fine grids, and the cross-validation settings (except the number of folds given above).\n",
    "\n",
    "**(10 points)**"
   ]
  },
  {
   "cell_type": "code",
   "execution_count": 130,
   "id": "0c688b8a",
   "metadata": {},
   "outputs": [
    {
     "name": "stdout",
     "output_type": "stream",
     "text": [
      "Fitting 5 folds for each of 500 candidates, totalling 2500 fits\n",
      "Best parameters:  {'max_depth': 23, 'max_leaf_nodes': 1102}\n",
      "Best score:  67697.0454051744\n"
     ]
    }
   ],
   "source": [
    "from sklearn.model_selection import RepeatedKFold\n",
    "\n",
    "model_part_e = DecisionTreeRegressor(random_state=1)\n",
    "\n",
    "grid = {\n",
    "    \"max_depth\": range(2, 30, 3),\n",
    "    \"max_leaf_nodes\": range(2, 5000, 100)\n",
    "}\n",
    "\n",
    "cv = KFold(n_splits=5, shuffle=True, random_state=1)\n",
    "\n",
    "gscv = GridSearchCV(\n",
    "    estimator=model_part_e,\n",
    "    param_grid=grid,\n",
    "    scoring=\"neg_mean_absolute_error\",\n",
    "    cv=cv,\n",
    "    n_jobs=-1,\n",
    "    verbose=1\n",
    ")\n",
    "\n",
    "gscv.fit(X_train, y_train)\n",
    "print(\"Best parameters: \", gscv.best_params_)\n",
    "print(\"Best score: \", -gscv.best_score_)"
   ]
  },
  {
   "cell_type": "markdown",
   "id": "6fb2072e-2a51-487e-a8ea-fbbe9bb5438b",
   "metadata": {},
   "source": [
    "### f)\n",
    "\n",
    "Find the test MAE of the tuned decision tree in Part e to see if it generalizes well. **(1 point)** "
   ]
  },
  {
   "cell_type": "code",
   "execution_count": 131,
   "id": "711cba72",
   "metadata": {},
   "outputs": [
    {
     "name": "stdout",
     "output_type": "stream",
     "text": [
      "64197.151174750004\n"
     ]
    }
   ],
   "source": [
    "gscv_model = gscv.best_estimator_\n",
    "y_pred_gscv = gscv_model.predict(X_test)\n",
    "\n",
    "test_mae = mean_absolute_error(y_test, y_pred_gscv)\n",
    "print(test_mae)"
   ]
  },
  {
   "cell_type": "markdown",
   "id": "6b0ae9b8-5061-49d8-9b93-aad4c3901286",
   "metadata": {},
   "source": [
    "### g)\n",
    "\n",
    "Create and train a bagged trees regressor. Keep all the hyperparameters (both in the base and in the bagging model) as default, except for `n_estimators`. For `n_estimators`, **efficiently** find a number which stabilizes the performance of the bagged trees model. Return the test MAE. You need to see **a test MAE below $50,000 for credit**.\n",
    "\n",
    "The requirements are:\n",
    "\n",
    "-  Keep the `random_state` of **any object that takes a `random_state` input** as 1.\n",
    "-  Implement the method that is specific to bagging models to find a good `n_estimators` efficiently. Note that you are expected to know this method from the lectures. Cross-validation is not efficient and trial and error is not accepted.\n",
    "\n",
    "Any solution that fails to meet these requirements will not receive any credit.\n",
    "\n",
    "**(5 points)**"
   ]
  },
  {
   "cell_type": "code",
   "execution_count": 132,
   "id": "b83b937f",
   "metadata": {},
   "outputs": [
    {
     "data": {
      "image/png": "[encoded data removed]",
      "text/plain": [
       "<Figure size 640x480 with 1 Axes>"
      ]
     },
     "metadata": {},
     "output_type": "display_data"
    }
   ],
   "source": [
    "oob_mae = []\n",
    "\n",
    "num_trees = np.arange(10,400,40)\n",
    "\n",
    "for num_tree in num_trees:\n",
    "    base_model = DecisionTreeRegressor(random_state=1)\n",
    "    model = BaggingRegressor(\n",
    "        estimator=base_model,\n",
    "        n_estimators=num_tree,\n",
    "        random_state=1,\n",
    "        oob_score=True)\n",
    "    model.fit(X_train, y_train)\n",
    "    oob_predictions = model.oob_prediction_\n",
    "    oob_mae.append(mean_absolute_error(y_train, oob_predictions))\n",
    "    \n",
    "plt.plot(num_trees, oob_mae)\n",
    "plt.xlabel(\"Number of trees\")\n",
    "plt.ylabel(\"OOB MAE\")\n",
    "plt.title(\"OOB MAE vs Number of trees\")\n",
    "plt.show()"
   ]
  },
  {
   "cell_type": "code",
   "execution_count": 133,
   "id": "9317113f",
   "metadata": {},
   "outputs": [
    {
     "name": "stdout",
     "output_type": "stream",
     "text": [
      "46253.529737629564\n"
     ]
    }
   ],
   "source": [
    "# MAE seems to stabilize around 250 trees will use that\n",
    "base_model = DecisionTreeRegressor(random_state=1)\n",
    "model = BaggingRegressor(\n",
    "    estimator=base_model,\n",
    "    n_estimators=250,\n",
    "    random_state=1,\n",
    "    oob_score=True\n",
    ")\n",
    "model.fit(X_train, y_train)\n",
    "y_pred_bag = model.predict(X_test)\n",
    "test_mae = mean_absolute_error(y_test, y_pred_bag)\n",
    "print(test_mae)"
   ]
  },
  {
   "cell_type": "markdown",
   "id": "f0216c30-16d7-42c1-8ca3-c6a300221f6b",
   "metadata": {},
   "source": [
    "### h)\n",
    "\n",
    "Explain why the bagged trees model with default values and a large number of trees (in Part g) is performing better than a single decision tree with default or with tuned values. **(2 points)**"
   ]
  },
  {
   "cell_type": "markdown",
   "id": "51d962d3",
   "metadata": {},
   "source": [
    "The bagged trees model with default values outperforms even tuned single decision tree models because bagging averages the predictions of, in my case 200, a large number of overfitting trees, thereby reducing variance. In contrast, a single decision tree could very likely overfit by memorizing noise."
   ]
  },
  {
   "cell_type": "markdown",
   "id": "7400dd63-5ad9-411a-b89c-609645670182",
   "metadata": {},
   "source": [
    "### i)\n",
    "\n",
    "Tune a bagged trees regressor to get below a **5-fold** cross-validation MAE of $48,000. The requirements are:\n",
    "\n",
    "-  Keep the `random_state` of **any object that takes a `random_state` input** as 1.\n",
    "-  **Only tune the hyperparameters that need to be tuned!** You are expected to know which hyperparameters need to be tuned (along with the reasons for tuning them) from the lectures.\n",
    "-  Do not use any loops while tuning the model.\n",
    "-  In your final submission, include an actual grid that is run with **at least 36** different hyperparameter combinations. \n",
    "\n",
    "Any solution that fails to meet these requirements will not receive any credit. Note that any other aspects are entirely up to you, including the grid values, how to approach any coarse and/or fine grids, and the cross-validation settings (except the number of folds given above).\n",
    "\n",
    "**(10 points)**"
   ]
  },
  {
   "cell_type": "code",
   "execution_count": 87,
   "id": "1b5b00cd",
   "metadata": {},
   "outputs": [
    {
     "name": "stdout",
     "output_type": "stream",
     "text": [
      "Fitting 5 folds for each of 36 candidates, totalling 180 fits\n",
      "Best parameters:  {'bootstrap': True, 'bootstrap_features': False, 'max_features': 0.75, 'max_samples': 1.0}\n",
      "Best score:  47538.77911950427\n"
     ]
    }
   ],
   "source": [
    "base = DecisionTreeRegressor(random_state=1)\n",
    "\n",
    "# need to tune n_estimators, max_samples, max_features, bootstrap, bootstrap_features\n",
    "# we can use n_estimators (250) from previous part\n",
    "model = BaggingRegressor(\n",
    "    estimator=base,\n",
    "    n_estimators=250,\n",
    "    random_state=1,\n",
    "    oob_score=True\n",
    ")\n",
    "\n",
    "grid = {\n",
    "    \"max_samples\": [0.5, 0.75, 1.0],\n",
    "    \"max_features\": [0.5, 0.75, 1.0],\n",
    "    \"bootstrap\": [True, False],\n",
    "    \"bootstrap_features\": [True, False]\n",
    "}\n",
    "cv = KFold(n_splits=5, shuffle=True, random_state=1)\n",
    "\n",
    "grid_search = GridSearchCV(\n",
    "    estimator=model,\n",
    "    param_grid=grid,\n",
    "    scoring=\"neg_mean_absolute_error\",\n",
    "    cv=cv,\n",
    "    n_jobs=-1,\n",
    "    verbose=1\n",
    ")\n",
    "grid_search.fit(X_train, y_train)\n",
    "print(\"Best parameters: \", grid_search.best_params_)\n",
    "print(\"Best score: \", -grid_search.best_score_)"
   ]
  },
  {
   "cell_type": "markdown",
   "id": "717592ab-50af-447a-b796-d8b82d808389",
   "metadata": {},
   "source": [
    "### j)\n",
    "\n",
    "Find the test MAE of the tuned bagged trees model in Part i to see if it generalizes well. **(1 point)** "
   ]
  },
  {
   "cell_type": "code",
   "execution_count": 134,
   "id": "2d4e83e8",
   "metadata": {},
   "outputs": [
    {
     "name": "stdout",
     "output_type": "stream",
     "text": [
      "45051.16147699652\n"
     ]
    }
   ],
   "source": [
    "tuned_model_part_i = grid_search.best_estimator_\n",
    "y_pred_tuned = tuned_model_part_i.predict(X_test)\n",
    "test_mae = mean_absolute_error(y_test, y_pred_tuned)\n",
    "print(test_mae)"
   ]
  },
  {
   "cell_type": "markdown",
   "id": "9a19894d-0850-45f9-8958-a3c621beefd4",
   "metadata": {},
   "source": [
    "### k)\n",
    "\n",
    "Using the tuned bagged trees model in Part i, print the predictor names in **decreasing order** of importance. You need to print a DataFrame with the predictor names in the first column and the importance values in the second. **(2 points)**"
   ]
  },
  {
   "cell_type": "code",
   "execution_count": 135,
   "id": "965d7fc1",
   "metadata": {},
   "outputs": [
    {
     "name": "stdout",
     "output_type": "stream",
     "text": [
      "              feature  importance\n",
      "3        TOT_LVG_AREA    0.313766\n",
      "6          OCEAN_DIST    0.131860\n",
      "14  structure_quality    0.088273\n",
      "8           CNTR_DIST    0.078293\n",
      "1           LONGITUDE    0.075209\n",
      "4       SPEC_FEAT_VAL    0.071433\n",
      "9          SUBCNTR_DI    0.056411\n",
      "7          WATER_DIST    0.046469\n",
      "2          LND_SQFOOT    0.038322\n",
      "0            LATITUDE    0.026109\n",
      "11                age    0.025344\n",
      "10           HWY_DIST    0.022864\n",
      "5           RAIL_DIST    0.019218\n",
      "13         month_sold    0.006238\n",
      "12         avno60plus    0.000192\n"
     ]
    }
   ],
   "source": [
    "importances = []\n",
    "\n",
    "# can't use direct method in class bc best max_features of the tuned model is 0.75, not 1 so not every tree sees each column\n",
    "for i in range(len(tuned_model_part_i.estimators_)):\n",
    "    tree = tuned_model_part_i.estimators_[i]\n",
    "    feature_indices = tuned_model_part_i.estimators_features_[i]\n",
    "    tree_importances = np.zeros(X_train.shape[1])\n",
    "    tree_importances[feature_indices] = tree.feature_importances_\n",
    "    importances.append(tree_importances)\n",
    "\n",
    "feature_importances = pd.DataFrame({\n",
    "    \"feature\": X_train.columns,\n",
    "    \"importance\": np.mean(importances, axis=0)\n",
    "}).sort_values(by=\"importance\", ascending=False)\n",
    "\n",
    "print(feature_importances)"
   ]
  },
  {
   "cell_type": "markdown",
   "id": "3e73fffe-0cad-4332-b6d7-060f1c9b5867",
   "metadata": {},
   "source": [
    "### l)\n",
    "\n",
    "Tune a random forest regressor to get below a **5-fold** cross-validation MAE of $48,000. The requirements are:\n",
    "\n",
    "-  Keep the `random_state` of **any object that takes a `random_state` input** as 1.\n",
    "-  **Only tune the hyperparameters that need to be tuned!** You are expected to know which hyperparameters need to be tuned (along with the reasons for tuning them) from the lectures.\n",
    "-  Do not use any loops while tuning the model.\n",
    "-  In your final submission, include an actual grid that is run with **at least 32** different hyperparameter combinations. \n",
    "\n",
    "Any solution that fails to meet these requirements will not receive any credit. Note that any other aspects are entirely up to you, including the grid values, how to approach any coarse and/or fine grids, and the cross-validation settings (except the number of folds given above).\n",
    "\n",
    "**Hint:** The result in Part g should help with `n_estimators`. You are not required to repeat the entire process to find a good `n_estimators`.\n",
    "\n",
    "**(10 points)**"
   ]
  },
  {
   "cell_type": "code",
   "execution_count": 100,
   "id": "98b7f57c",
   "metadata": {},
   "outputs": [
    {
     "name": "stdout",
     "output_type": "stream",
     "text": [
      "Fitting 5 folds for each of 32 candidates, totalling 160 fits\n",
      "Best parameters:  {'bootstrap': True, 'max_features': 0.3, 'max_samples': 0.9}\n",
      "Best score:  47941.61248162184\n"
     ]
    }
   ],
   "source": [
    "# using the hint, we will stick with n_estimators = 200\n",
    "rf_model = RandomForestRegressor(\n",
    "    n_estimators=200,\n",
    "    random_state=1)\n",
    "\n",
    "rf_grid = {\n",
    "    'max_samples': [0.5, 0.7, 0.8, 0.9],\n",
    "    'max_features': [0.2, 0.3, 0.4, 0.5],\n",
    "    'bootstrap': [True, False]\n",
    "}\n",
    "\n",
    "cv = KFold(n_splits=5, shuffle=True, random_state=1)\n",
    "\n",
    "rf_grid_search = GridSearchCV(\n",
    "    estimator=rf_model,\n",
    "    param_grid=rf_grid,\n",
    "    scoring=\"neg_mean_absolute_error\",\n",
    "    cv=cv,\n",
    "    n_jobs=-1,\n",
    "    verbose=1\n",
    ")\n",
    "rf_grid_search.fit(X_train, y_train)\n",
    "print(\"Best parameters: \", rf_grid_search.best_params_)\n",
    "print(\"Best score: \", -rf_grid_search.best_score_)\n",
    "\n"
   ]
  },
  {
   "cell_type": "markdown",
   "id": "8d6cf890-e573-4e99-b56c-0ac346a15540",
   "metadata": {},
   "source": [
    "### m)\n",
    "\n",
    "Find the test MAE of the tuned random forest model in Part l to see if it generalizes well. **(1 point)** "
   ]
  },
  {
   "cell_type": "code",
   "execution_count": 101,
   "id": "6ac7d8ef",
   "metadata": {},
   "outputs": [
    {
     "name": "stdout",
     "output_type": "stream",
     "text": [
      "45474.64608315603\n"
     ]
    }
   ],
   "source": [
    "best_rf_model = rf_grid_search.best_estimator_\n",
    "y_pred_rf = best_rf_model.predict(X_test)\n",
    "test_mae = mean_absolute_error(y_test, y_pred_rf)\n",
    "print(test_mae)"
   ]
  },
  {
   "cell_type": "markdown",
   "id": "fb59e24e-0199-49b4-b13e-955147a029dd",
   "metadata": {},
   "source": [
    "### n)\n",
    "\n",
    "Using the tuned random forest model in Part l, print the predictor names in **decreasing order** of importance. You need to print a DataFrame with the predictor names in the first column and the importance values in the second. **(1 point)**"
   ]
  },
  {
   "cell_type": "code",
   "execution_count": 102,
   "id": "7d9a15c1",
   "metadata": {},
   "outputs": [
    {
     "name": "stdout",
     "output_type": "stream",
     "text": [
      "              feature  importance\n",
      "3        TOT_LVG_AREA    0.260637\n",
      "6          OCEAN_DIST    0.128665\n",
      "14  structure_quality    0.100608\n",
      "4       SPEC_FEAT_VAL    0.097738\n",
      "9          SUBCNTR_DI    0.076184\n",
      "1           LONGITUDE    0.065801\n",
      "8           CNTR_DIST    0.061728\n",
      "2          LND_SQFOOT    0.056008\n",
      "7          WATER_DIST    0.039821\n",
      "0            LATITUDE    0.035884\n",
      "11                age    0.025846\n",
      "10           HWY_DIST    0.023643\n",
      "5           RAIL_DIST    0.020849\n",
      "13         month_sold    0.006030\n",
      "12         avno60plus    0.000558\n"
     ]
    }
   ],
   "source": [
    "rf_importances = pd.DataFrame({\n",
    "    \"feature\": X_train.columns,\n",
    "    \"importance\": best_rf_model.feature_importances_\n",
    "}).sort_values(by=\"importance\", ascending=False)\n",
    "print(rf_importances)"
   ]
  },
  {
   "cell_type": "markdown",
   "id": "60a7cb26-e97b-4442-abd3-3a4b9c3ae92e",
   "metadata": {},
   "source": [
    "### o)\n",
    "\n",
    "Both the bagged trees model and the random forest model have a `max_features` input, which determines how many predictors are used at a certain part of the training process. Does this input have the same functionality in both models? If not, what is the difference? **(3 points)**"
   ]
  },
  {
   "cell_type": "markdown",
   "id": "02d4f484",
   "metadata": {},
   "source": [
    "For the bagged trees model, max_features represents the number/fraction of features randomly selected for consideration by each tree. On the other hand, max_features represents the number/fraction of features randomly selected for consideration at each split of each tree in the random forest model. While max_features determines the random feature selection of both models, it does so at the tree level for bagged trees and at the split level for random forests."
   ]
  },
  {
   "cell_type": "markdown",
   "id": "bc82a652-aa83-4003-92ea-0ff1fab35431",
   "metadata": {},
   "source": [
    "## 2) Classification with Bagging (42 points)"
   ]
  },
  {
   "cell_type": "markdown",
   "id": "33a6c1d8-ee91-4297-ba75-e1a807987266",
   "metadata": {},
   "source": [
    "In this question, you will use the **train.csv** and **test.csv** files. Each observation is a marketing call from a banking institution. The `y` variable is the classification response and represents whether the client subscribed for a term deposit (1) or not (0).\n",
    "\n",
    "The predictors are `age`, `day`, `month`, and `education`."
   ]
  },
  {
   "cell_type": "markdown",
   "id": "49cdd8c5-08de-4dea-954b-e58024a6741d",
   "metadata": {},
   "source": [
    "### a)\n",
    "\n",
    "Preprocess the data:\n",
    "\n",
    "- Read the files. Create the training and the test datasets.\n",
    "- Convert the response to 1s and 0s.\n",
    "- One-hot-encode the categorical predictors (Use `drop_first=True` for efficiency).\n",
    "\n",
    "**(2 points)**"
   ]
  },
  {
   "cell_type": "code",
   "execution_count": 103,
   "id": "bbcded13",
   "metadata": {},
   "outputs": [],
   "source": [
    "train = pd.read_csv(\"/Users/vaibhavrangan/Downloads/Stat_303-3/Datasets/train.csv\")\n",
    "test = pd.read_csv(\"/Users/vaibhavrangan/Downloads/Stat_303-3/Datasets/test.csv\")\n"
   ]
  },
  {
   "cell_type": "code",
   "execution_count": 104,
   "id": "10694302",
   "metadata": {},
   "outputs": [],
   "source": [
    "train[\"y\"] = train[\"y\"].apply(lambda x: 1 if x == \"yes\" else 0)\n",
    "test[\"y\"] = test[\"y\"].apply(lambda x: 1 if x == \"yes\" else 0)"
   ]
  },
  {
   "cell_type": "code",
   "execution_count": 105,
   "id": "c2e93d6c",
   "metadata": {},
   "outputs": [],
   "source": [
    "X_train = train.drop(columns=[\"y\"], axis=1)\n",
    "y_train = train[\"y\"]\n",
    "X_test = test.drop(columns=[\"y\"], axis=1)\n",
    "y_test = test[\"y\"]"
   ]
  },
  {
   "cell_type": "code",
   "execution_count": 108,
   "id": "f1d65df3",
   "metadata": {},
   "outputs": [],
   "source": [
    "from sklearn.preprocessing import OneHotEncoder\n",
    "\n",
    "categorical_vars = [\"education\", \"day\", \"month\"]\n",
    "\n",
    "X_train_numerical = X_train.drop(columns=categorical_vars, axis=1)\n",
    "X_test_numerical = X_test.drop(columns=categorical_vars, axis=1)\n",
    "\n",
    "encoder = OneHotEncoder(sparse_output=False, drop=\"first\")\n",
    "X_train_encoded = encoder.fit_transform(X_train[categorical_vars])\n",
    "X_test_encoded = encoder.transform(X_test[categorical_vars])\n",
    "\n",
    "X_train_encoded = pd.DataFrame(X_train_encoded, columns=encoder.get_feature_names_out(categorical_vars))\n",
    "X_test_encoded = pd.DataFrame(X_test_encoded, columns=encoder.get_feature_names_out(categorical_vars))\n",
    "X_train_cleaned = pd.concat([X_train_numerical, X_train_encoded], axis=1)\n",
    "X_test_cleaned = pd.concat([X_test_numerical, X_test_encoded], axis=1)\n"
   ]
  },
  {
   "cell_type": "markdown",
   "id": "9ffe7aea-192d-4502-a9b8-013d02748fb4",
   "metadata": {},
   "source": [
    "### b)\n",
    "\n",
    "Tune a decision tree classifier to get above a **5-fold** cross-validation accuracy of 70% **and** a **5-fold** cross-validation recall of 40%. The requirements are:\n",
    "\n",
    "-  Keep the `random_state` of **any object that takes a `random_state` input** as 1.\n",
    "-  Use the decision tree hyperparameters used in the lectures for consistency.\n",
    "-  Do not use any loops while tuning the decision tree.\n",
    "-  In your final submission, include a grid that is run with **at least 50** different hyperparameter combinations. \n",
    "\n",
    "Any solution that fails to meet these requirements will not receive any credit. Note that any other aspects are entirely up to you, including the grid values, how to approach any coarse and/or fine grids, and the cross-validation settings (except the number of folds given above).\n",
    "\n",
    "**Hint:** Remember to tune the decision threshold as well for classifiers. A stepsize of **0.001** can be useful.\n",
    "\n",
    "**(15 points)**"
   ]
  },
  {
   "cell_type": "code",
   "execution_count": 109,
   "id": "84a9c423",
   "metadata": {},
   "outputs": [
    {
     "name": "stdout",
     "output_type": "stream",
     "text": [
      "Fitting 5 folds for each of 500 candidates, totalling 2500 fits\n",
      "Best parameters:  {'max_depth': 46, 'max_leaf_nodes': 1980}\n",
      "Best recall:  0.20345771070378182\n",
      "Accuracy of best model:  0.8703428571428571\n"
     ]
    }
   ],
   "source": [
    "from sklearn.model_selection import StratifiedKFold\n",
    "from sklearn.metrics import accuracy_score, recall_score\n",
    "\n",
    "classifier = DecisionTreeClassifier(random_state=1)\n",
    "\n",
    "cv = StratifiedKFold(n_splits=5, shuffle=True, random_state=1)\n",
    "\n",
    "grid = {\n",
    "    \"max_depth\": range(45, 55),\n",
    "    \"max_leaf_nodes\": range(1000, 2000, 20)\n",
    "}\n",
    "\n",
    "grid_search_class = GridSearchCV(\n",
    "    estimator=classifier,\n",
    "    param_grid=grid,\n",
    "    scoring=[\"accuracy\", \"recall\"],\n",
    "    refit=\"recall\",\n",
    "    cv=cv,\n",
    "    n_jobs=-1,\n",
    "    verbose=1\n",
    ")\n",
    "\n",
    "grid_search_class.fit(X_train_cleaned, y_train)\n",
    "print(\"Best parameters: \", grid_search_class.best_params_)\n",
    "print(\"Best recall: \", grid_search_class.best_score_)\n",
    "best_index = grid_search_class.best_index_\n",
    "print(\"Accuracy of best model: \", grid_search_class.cv_results_[\"mean_test_accuracy\"][best_index])\n"
   ]
  },
  {
   "cell_type": "code",
   "execution_count": 110,
   "id": "bbbb4e9d",
   "metadata": {},
   "outputs": [
    {
     "data": {
      "text/html": [
       "<div>\n",
       "<style scoped>\n",
       "    .dataframe tbody tr th:only-of-type {\n",
       "        vertical-align: middle;\n",
       "    }\n",
       "\n",
       "    .dataframe tbody tr th {\n",
       "        vertical-align: top;\n",
       "    }\n",
       "\n",
       "    .dataframe thead th {\n",
       "        text-align: right;\n",
       "    }\n",
       "</style>\n",
       "<table border=\"1\" class=\"dataframe\">\n",
       "  <thead>\n",
       "    <tr style=\"text-align: right;\">\n",
       "      <th></th>\n",
       "      <th>Threshold</th>\n",
       "      <th>Recall</th>\n",
       "      <th>Accuracy</th>\n",
       "    </tr>\n",
       "  </thead>\n",
       "  <tbody>\n",
       "    <tr>\n",
       "      <th>8</th>\n",
       "      <td>0.08</td>\n",
       "      <td>0.415692</td>\n",
       "      <td>0.712686</td>\n",
       "    </tr>\n",
       "  </tbody>\n",
       "</table>\n",
       "</div>"
      ],
      "text/plain": [
       "  Threshold    Recall  Accuracy\n",
       "8      0.08  0.415692  0.712686"
      ]
     },
     "execution_count": 110,
     "metadata": {},
     "output_type": "execute_result"
    }
   ],
   "source": [
    "from sklearn.model_selection import cross_val_predict\n",
    "\n",
    "thresholds = np.arange(0, 1.01, 0.01)\n",
    "\n",
    "tuned_clf = grid_search_class.best_estimator_\n",
    "y_pred_probs = cross_val_predict(tuned_clf, X_train_cleaned, y_train, cv=cv, method='predict_proba')[:, 1]\n",
    "\n",
    "cv_results = pd.DataFrame(columns=['Threshold', 'Recall', 'Accuracy'])\n",
    "\n",
    "thresholds = np.arange(0, 1.01, 0.01)\n",
    "counter = 0\n",
    "\n",
    "for thr in thresholds:\n",
    "    cv_results.loc[counter, \"Threshold\"] = thr\n",
    "    cv_results.loc[counter, \"Recall\"] = recall_score(y_train, y_pred_probs > thr)\n",
    "    cv_results.loc[counter, \"Accuracy\"] = accuracy_score(y_train, y_pred_probs > thr)\n",
    "    counter += 1\n",
    "\n",
    "cv_results[(cv_results[\"Recall\"] >= 0.4) & (cv_results[\"Accuracy\"] >= 0.7)]"
   ]
  },
  {
   "cell_type": "code",
   "execution_count": 111,
   "id": "abc09dc1",
   "metadata": {},
   "outputs": [
    {
     "name": "stdout",
     "output_type": "stream",
     "text": [
      "0.08\n"
     ]
    }
   ],
   "source": [
    "tuned_rows = cv_results[(cv_results[\"Recall\"] >= 0.4) & (cv_results[\"Accuracy\"] >= 0.7)]\n",
    "tuned_thr = tuned_rows[\"Threshold\"].values[0]\n",
    "print(tuned_thr)"
   ]
  },
  {
   "cell_type": "markdown",
   "id": "12b72770-839e-4c4d-9aa4-4461e00db9bd",
   "metadata": {},
   "source": [
    "### c)\n",
    "\n",
    "Find the test accuracy and test recall of the tuned decision tree and the tuned threshold in Part b to see if they generalize well. **(1 point)**"
   ]
  },
  {
   "cell_type": "code",
   "execution_count": 112,
   "id": "e57f8e47",
   "metadata": {},
   "outputs": [
    {
     "name": "stdout",
     "output_type": "stream",
     "text": [
      "0.42495784148397975\n",
      "0.7296028174525533\n"
     ]
    }
   ],
   "source": [
    "y_pred_proba_test = tuned_clf.predict_proba(X_test_cleaned)[:, 1]\n",
    "y_pred_test = y_pred_proba_test > tuned_thr\n",
    "print(recall_score(y_test, y_pred_test))\n",
    "print(accuracy_score(y_test, y_pred_test))"
   ]
  },
  {
   "cell_type": "markdown",
   "id": "1d448c83-6d64-48be-ae45-e9464cabf47d",
   "metadata": {},
   "source": [
    "### d)\n",
    "\n",
    "Tune a random forest classifier to get above a **5-fold** cross-validation accuracy of 70% with the maximum cross-validation recall possible. The requirements are:\n",
    "\n",
    "-  Keep the `random_state` of **any object that takes a `random_state` input** as 1.\n",
    "-  **Only tune the hyperparameters that need to be tuned!** You are expected to know which hyperparameters need to be tuned (along with the reasons for tuning them) from the lectures.\n",
    "-  **For `n_estimators`, find a stable value using the same method as in Question 1.**\n",
    "-  Do not use any loops while tuning the model.\n",
    "-  In your final submission, include a grid that is run with **at least 15** different hyperparameter combinations. \n",
    "\n",
    "Any solution that fails to meet these requirements will not receive any credit. Note that any other aspects are entirely up to you, including the grid values, how to approach any coarse and/or fine grids, and the cross-validation settings (except the number of folds given above).\n",
    "\n",
    "**Hint:** Remember to tune the decision threshold as well for classifiers.\n",
    "\n",
    "**(20 points)**"
   ]
  },
  {
   "cell_type": "code",
   "execution_count": 113,
   "id": "12cdbdbc",
   "metadata": {},
   "outputs": [
    {
     "data": {
      "image/png": "[encoded data removed]",
      "text/plain": [
       "<Figure size 640x480 with 1 Axes>"
      ]
     },
     "metadata": {},
     "output_type": "display_data"
    }
   ],
   "source": [
    "# tune n_estimators using OOB score\n",
    "oob_accs = []\n",
    "\n",
    "num_trees = np.arange(10,400,40)\n",
    "\n",
    "for num_tree in num_trees:\n",
    "    model = RandomForestClassifier(\n",
    "        n_estimators=num_tree,\n",
    "        random_state=1,\n",
    "        oob_score=True\n",
    "    )\n",
    "    model.fit(X_train_cleaned, y_train)\n",
    "    oob_accs.append(model.oob_score_)\n",
    "    \n",
    "plt.plot(num_trees, oob_accs)\n",
    "plt.xlabel(\"Number of trees\")\n",
    "plt.ylabel(\"OOB accuracy\")\n",
    "plt.title(\"OOB accuracy vs Number of trees\")\n",
    "plt.show()"
   ]
  },
  {
   "cell_type": "code",
   "execution_count": 114,
   "id": "bc6da6fa",
   "metadata": {},
   "outputs": [
    {
     "name": "stdout",
     "output_type": "stream",
     "text": [
      "Fitting 5 folds for each of 42 candidates, totalling 210 fits\n",
      "Best parameters:  {'bootstrap': True, 'max_features': 0.05, 'max_samples': 0.3}\n",
      "Best accuracy:  0.8830857142857143\n",
      "Recall of best model:  0.14790588514898548\n"
     ]
    }
   ],
   "source": [
    "# highest OOB accuracy seems to be at n_estimators = 200\n",
    "rf_classifier = RandomForestClassifier(\n",
    "    n_estimators=200,\n",
    "    random_state=1\n",
    ")\n",
    "\n",
    "rf_class_grid = {\n",
    "    'max_samples': [0.26, 0.27, 0.28, 0.29, 0.30, 0.31, 0.32],\n",
    "    'max_features': [0.05, 0.1, 0.15],\n",
    "    'bootstrap': [True, False]\n",
    "}\n",
    "\n",
    "rf_class_gscv = GridSearchCV(\n",
    "    estimator=rf_classifier,\n",
    "    param_grid=rf_class_grid,\n",
    "    scoring=[\"accuracy\", \"recall\"],\n",
    "    refit=\"accuracy\",\n",
    "    cv=cv,\n",
    "    n_jobs=-1,\n",
    "    verbose=1\n",
    ")\n",
    "\n",
    "rf_class_gscv.fit(X_train_cleaned, y_train)\n",
    "print(\"Best parameters: \", rf_class_gscv.best_params_)\n",
    "print(\"Best accuracy: \", rf_class_gscv.best_score_)\n",
    "best_index = rf_class_gscv.best_index_\n",
    "print(\"Recall of best model: \", rf_class_gscv.cv_results_[\"mean_test_recall\"][best_index])\n"
   ]
  },
  {
   "cell_type": "code",
   "execution_count": 115,
   "id": "96a61581",
   "metadata": {},
   "outputs": [
    {
     "data": {
      "text/html": [
       "<div>\n",
       "<style scoped>\n",
       "    .dataframe tbody tr th:only-of-type {\n",
       "        vertical-align: middle;\n",
       "    }\n",
       "\n",
       "    .dataframe tbody tr th {\n",
       "        vertical-align: top;\n",
       "    }\n",
       "\n",
       "    .dataframe thead th {\n",
       "        text-align: right;\n",
       "    }\n",
       "</style>\n",
       "<table border=\"1\" class=\"dataframe\">\n",
       "  <thead>\n",
       "    <tr style=\"text-align: right;\">\n",
       "      <th></th>\n",
       "      <th>Threshold</th>\n",
       "      <th>Recall</th>\n",
       "      <th>Accuracy</th>\n",
       "    </tr>\n",
       "  </thead>\n",
       "  <tbody>\n",
       "    <tr>\n",
       "      <th>13</th>\n",
       "      <td>0.13</td>\n",
       "      <td>0.59576</td>\n",
       "      <td>0.712457</td>\n",
       "    </tr>\n",
       "    <tr>\n",
       "      <th>14</th>\n",
       "      <td>0.14</td>\n",
       "      <td>0.580409</td>\n",
       "      <td>0.724429</td>\n",
       "    </tr>\n",
       "    <tr>\n",
       "      <th>15</th>\n",
       "      <td>0.15</td>\n",
       "      <td>0.563353</td>\n",
       "      <td>0.7382</td>\n",
       "    </tr>\n",
       "    <tr>\n",
       "      <th>16</th>\n",
       "      <td>0.16</td>\n",
       "      <td>0.549951</td>\n",
       "      <td>0.750429</td>\n",
       "    </tr>\n",
       "    <tr>\n",
       "      <th>17</th>\n",
       "      <td>0.17</td>\n",
       "      <td>0.535575</td>\n",
       "      <td>0.760629</td>\n",
       "    </tr>\n",
       "    <tr>\n",
       "      <th>...</th>\n",
       "      <td>...</td>\n",
       "      <td>...</td>\n",
       "      <td>...</td>\n",
       "    </tr>\n",
       "    <tr>\n",
       "      <th>96</th>\n",
       "      <td>0.96</td>\n",
       "      <td>0.0</td>\n",
       "      <td>0.882743</td>\n",
       "    </tr>\n",
       "    <tr>\n",
       "      <th>97</th>\n",
       "      <td>0.97</td>\n",
       "      <td>0.0</td>\n",
       "      <td>0.882743</td>\n",
       "    </tr>\n",
       "    <tr>\n",
       "      <th>98</th>\n",
       "      <td>0.98</td>\n",
       "      <td>0.0</td>\n",
       "      <td>0.882743</td>\n",
       "    </tr>\n",
       "    <tr>\n",
       "      <th>99</th>\n",
       "      <td>0.99</td>\n",
       "      <td>0.0</td>\n",
       "      <td>0.882743</td>\n",
       "    </tr>\n",
       "    <tr>\n",
       "      <th>100</th>\n",
       "      <td>1.0</td>\n",
       "      <td>0.0</td>\n",
       "      <td>0.882743</td>\n",
       "    </tr>\n",
       "  </tbody>\n",
       "</table>\n",
       "<p>88 rows × 3 columns</p>\n",
       "</div>"
      ],
      "text/plain": [
       "    Threshold    Recall  Accuracy\n",
       "13       0.13   0.59576  0.712457\n",
       "14       0.14  0.580409  0.724429\n",
       "15       0.15  0.563353    0.7382\n",
       "16       0.16  0.549951  0.750429\n",
       "17       0.17  0.535575  0.760629\n",
       "..        ...       ...       ...\n",
       "96       0.96       0.0  0.882743\n",
       "97       0.97       0.0  0.882743\n",
       "98       0.98       0.0  0.882743\n",
       "99       0.99       0.0  0.882743\n",
       "100       1.0       0.0  0.882743\n",
       "\n",
       "[88 rows x 3 columns]"
      ]
     },
     "execution_count": 115,
     "metadata": {},
     "output_type": "execute_result"
    }
   ],
   "source": [
    "tuned_rf_class = rf_class_gscv.best_estimator_\n",
    "y_pred_probs = cross_val_predict(tuned_rf_class, X_train_cleaned, y_train, cv=cv, method='predict_proba')[:, 1]\n",
    "\n",
    "cv_results = pd.DataFrame(columns=['Threshold', 'Recall', 'Accuracy'])\n",
    "\n",
    "thresholds = np.arange(0, 1.01, 0.01)\n",
    "counter = 0\n",
    "\n",
    "for thr in thresholds:\n",
    "    cv_results.loc[counter, \"Threshold\"] = thr\n",
    "    cv_results.loc[counter, \"Recall\"] = recall_score(y_train, y_pred_probs > thr)\n",
    "    cv_results.loc[counter, \"Accuracy\"] = accuracy_score(y_train, y_pred_probs > thr)\n",
    "    counter += 1\n",
    "\n",
    "cv_results[cv_results[\"Accuracy\"] >= 0.7]"
   ]
  },
  {
   "cell_type": "code",
   "execution_count": 116,
   "id": "66300b27",
   "metadata": {},
   "outputs": [
    {
     "name": "stdout",
     "output_type": "stream",
     "text": [
      "0.13 0.5957602339181286 13    0.712457\n",
      "Name: Accuracy, dtype: object\n"
     ]
    }
   ],
   "source": [
    "high_accs = cv_results[cv_results[\"Accuracy\"] >= 0.7]\n",
    "best_recall = high_accs[\"Recall\"].max()\n",
    "best_thresh = high_accs[high_accs[\"Recall\"] == best_recall][\"Threshold\"].values[0]\n",
    "print(best_thresh, best_recall, high_accs[high_accs[\"Recall\"] == best_recall][\"Accuracy\"])"
   ]
  },
  {
   "cell_type": "markdown",
   "id": "5cbd3c58-ba42-442e-a03c-76f7f9cbf929",
   "metadata": {},
   "source": [
    "### e)\n",
    "\n",
    "Compare the cross-validation recall of **the random forest in Part d** with the cross-validation recall of **the decision tree in Part b**. **(1 point)** What does the comparison indicate about using a number of trees together instead of a single tree? **(1 point)**"
   ]
  },
  {
   "cell_type": "markdown",
   "id": "c3e1723f",
   "metadata": {},
   "source": [
    "The CV recall of random forest in part d is higher than the CV recall of the decision tree in part b. This indicates that using a number of trees in random forest improves recall by reducing variance."
   ]
  },
  {
   "cell_type": "markdown",
   "id": "86ca4a11-2640-450b-9260-e2675c22959a",
   "metadata": {},
   "source": [
    "### f)\n",
    "\n",
    "Find the test accuracy and test recall of the tuned random forest and the tuned threshold in Part d to see if they generalize well. **(1 point)**"
   ]
  },
  {
   "cell_type": "code",
   "execution_count": 117,
   "id": "4d8ad45b",
   "metadata": {},
   "outputs": [
    {
     "name": "stdout",
     "output_type": "stream",
     "text": [
      "0.6087689713322091\n",
      "0.7131676775582078\n"
     ]
    }
   ],
   "source": [
    "y_test_pred_probs = tuned_rf_class.predict_proba(X_test_cleaned)[:, 1]\n",
    "y_test_pred = y_test_pred_probs > best_thresh\n",
    "print(recall_score(y_test, y_test_pred))\n",
    "print(accuracy_score(y_test, y_test_pred))"
   ]
  },
  {
   "cell_type": "markdown",
   "id": "3ce10420-3412-4594-a9ba-739000c78d90",
   "metadata": {},
   "source": [
    "### g)\n",
    "\n",
    "Using the tuned random forest model in Part d, print the predictor names in **decreasing order** of importance. You need to print a DataFrame with the predictor names in the first column and the importance values in the second. **(1 point)**"
   ]
  },
  {
   "cell_type": "code",
   "execution_count": 118,
   "id": "a6cab45b",
   "metadata": {},
   "outputs": [
    {
     "name": "stdout",
     "output_type": "stream",
     "text": [
      "                     Importance\n",
      "age                    0.606691\n",
      "month_may              0.025651\n",
      "month_oct              0.022255\n",
      "month_mar              0.021271\n",
      "month_sep              0.019900\n",
      "month_jul              0.019153\n",
      "education_tertiary     0.017822\n",
      "education_secondary    0.017497\n",
      "month_aug              0.015208\n",
      "month_feb              0.013307\n",
      "month_jun              0.012457\n",
      "month_nov              0.011460\n",
      "month_dec              0.009474\n",
      "education_unknown      0.009467\n",
      "month_jan              0.009159\n",
      "day_12                 0.008623\n",
      "day_15                 0.007197\n",
      "day_13                 0.007189\n",
      "day_10                 0.006837\n",
      "day_3                  0.006809\n",
      "day_17                 0.006711\n",
      "day_30                 0.006637\n",
      "day_11                 0.006547\n",
      "day_22                 0.006455\n",
      "day_4                  0.006290\n",
      "day_18                 0.006229\n",
      "day_6                  0.006163\n",
      "day_16                 0.006055\n",
      "day_2                  0.005832\n",
      "day_14                 0.005823\n",
      "day_8                  0.005697\n",
      "day_25                 0.005596\n",
      "day_27                 0.005330\n",
      "day_9                  0.005247\n",
      "day_5                  0.005213\n",
      "day_29                 0.005104\n",
      "day_20                 0.005093\n",
      "day_23                 0.004798\n",
      "day_19                 0.004723\n",
      "day_21                 0.004362\n",
      "day_26                 0.004268\n",
      "day_28                 0.004172\n",
      "day_7                  0.003877\n",
      "day_24                 0.003516\n",
      "day_31                 0.002836\n"
     ]
    }
   ],
   "source": [
    "feature_imps_df = pd.DataFrame(\n",
    "    tuned_rf_class.feature_importances_,\n",
    "    index=X_train_cleaned.columns,\n",
    "    columns=[\"Importance\"]\n",
    ").sort_values(\"Importance\", ascending=False)\n",
    "\n",
    "print(feature_imps_df)"
   ]
  }
 ],
 "metadata": {
  "kernelspec": {
   "display_name": ".venv",
   "language": "python",
   "name": "python3"
  },
  "language_info": {
   "codemirror_mode": {
    "name": "ipython",
    "version": 3
   },
   "file_extension": ".py",
   "mimetype": "text/x-python",
   "name": "python",
   "nbconvert_exporter": "python",
   "pygments_lexer": "ipython3",
   "version": "3.12.1"
  }
 },
 "nbformat": 4,
 "nbformat_minor": 5
}
