{
 "cells": [
  {
   "cell_type": "raw",
   "id": "84842ccf-dbb4-4f71-b7ab-c98ade20c02d",
   "metadata": {},
   "source": [
    "---\n",
    "title: \"Question 17\"\n",
    "format: \n",
    "  html:\n",
    "    toc: true\n",
    "    toc-title: Contents\n",
    "    code-fold: show\n",
    "    embed-resources: true\n",
    "jupyter: python3\n",
    "---"
   ]
  },
  {
   "cell_type": "code",
   "execution_count": 3,
   "id": "28d48fbf-aaaf-414b-a839-cc62ab6a6624",
   "metadata": {},
   "outputs": [],
   "source": [
    "import numpy as np\n",
    "import pandas as pd\n",
    "\n",
    "# More tools here\n",
    "import matplotlib.pyplot as plt\n",
    "import seaborn as sns\n",
    "import sklearn\n",
    "from sklearn.model_selection import train_test_split\n",
    "from sklearn.metrics import root_mean_squared_error\n",
    "from sklearn.ensemble import BaggingRegressor, BaggingClassifier\n",
    "from sklearn.tree import DecisionTreeRegressor, DecisionTreeClassifier\n",
    "from sklearn.ensemble import RandomForestClassifier, RandomForestRegressor\n",
    "from sklearn.metrics import mean_absolute_error\n",
    "from sklearn.model_selection import cross_val_score\n",
    "from sklearn.model_selection import StratifiedKFold\n",
    "from sklearn.model_selection import GridSearchCV\n",
    "from sklearn.metrics import accuracy_score, precision_score, recall_score"
   ]
  },
  {
   "cell_type": "code",
   "execution_count": 2,
   "id": "8780d05d-d387-4040-9742-eb28217c83d7",
   "metadata": {},
   "outputs": [],
   "source": [
    "data = pd.read_csv('phone_price.csv')"
   ]
  },
  {
   "cell_type": "code",
   "execution_count": 4,
   "id": "33ca252d",
   "metadata": {},
   "outputs": [],
   "source": [
    "train = data.drop(columns=['price_range'])\n",
    "response = data['price_range']\n",
    "\n",
    "X_train, X_test, y_train, y_test = train_test_split(train, response, test_size=0.2, stratify=response, random_state=1)"
   ]
  },
  {
   "cell_type": "code",
   "execution_count": 10,
   "id": "656eb5c3",
   "metadata": {},
   "outputs": [
    {
     "name": "stdout",
     "output_type": "stream",
     "text": [
      "Fitting 5 folds for each of 180 candidates, totalling 900 fits\n",
      "Parameters of model with best CV precision: {'max_depth': 5, 'max_leaf_nodes': 25}\n",
      "Best CV Precision: 0.9662382302177364\n",
      "Accuracy of model with best CV precision: 0.945\n",
      "Fitting 5 folds for each of 180 candidates, totalling 900 fits\n",
      "Parameters of model with best CV accuracy: {'max_depth': 9, 'max_leaf_nodes': 30}\n",
      "Best CV Accuracy: 0.95\n",
      "Precision of model with best CV accuracy: 0.9570350377367921\n"
     ]
    }
   ],
   "source": [
    "model = DecisionTreeClassifier(random_state=1)\n",
    "grid = {\n",
    "    \"max_depth\": range(2,11),\n",
    "    \"max_leaf_nodes\": range(5, 105, 5)\n",
    "}\n",
    "\n",
    "cv = StratifiedKFold(n_splits=5, shuffle=True, random_state=1)\n",
    "\n",
    "gscv_prec = GridSearchCV(model, grid, cv=cv, scoring={\n",
    "    \"accuracy\": \"accuracy\",\n",
    "    \"precision\": \"precision\"\n",
    "}, refit=\"precision\", verbose=1, n_jobs=-1)\n",
    "\n",
    "gscv_prec.fit(X_train, y_train)\n",
    "print(\"Parameters of model with best CV precision:\", gscv_prec.best_params_)\n",
    "print(\"Best CV Precision:\", gscv_prec.best_score_)\n",
    "best_prec_idx = gscv_prec.best_index_\n",
    "print(\"Accuracy of model with best CV precision:\", gscv_prec.cv_results_[\"mean_test_accuracy\"][best_prec_idx])\n",
    "\n",
    "gscv_acc = GridSearchCV(model, grid, cv=cv, scoring={\n",
    "    \"accuracy\": \"accuracy\",\n",
    "    \"precision\": \"precision\"\n",
    "}, refit=\"accuracy\", verbose=1, n_jobs=-1)\n",
    "\n",
    "gscv_acc.fit(X_train, y_train)\n",
    "print(\"Parameters of model with best CV accuracy:\", gscv_acc.best_params_)\n",
    "print(\"Best CV Accuracy:\", gscv_acc.best_score_)\n",
    "best_acc_idx = gscv_acc.best_index_\n",
    "print(\"Precision of model with best CV accuracy:\", gscv_acc.cv_results_[\"mean_test_precision\"][best_acc_idx])"
   ]
  }
 ],
 "metadata": {
  "kernelspec": {
   "display_name": ".venv",
   "language": "python",
   "name": "python3"
  },
  "language_info": {
   "codemirror_mode": {
    "name": "ipython",
    "version": 3
   },
   "file_extension": ".py",
   "mimetype": "text/x-python",
   "name": "python",
   "nbconvert_exporter": "python",
   "pygments_lexer": "ipython3",
   "version": "3.12.1"
  }
 },
 "nbformat": 4,
 "nbformat_minor": 5
}
