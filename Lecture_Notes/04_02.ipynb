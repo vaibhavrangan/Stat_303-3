{
 "cells": [
  {
   "cell_type": "code",
   "execution_count": 1,
   "metadata": {},
   "outputs": [],
   "source": [
    "import pandas as pd\n",
    "import numpy as np\n",
    "import matplotlib.pyplot as plt\n",
    "import statsmodels.api as sm\n",
    "import statsmodels.formula.api as smf\n",
    "import sklearn\n",
    "from sklearn.linear_model import LinearRegression\n",
    "from sklearn.metrics import mean_squared_error, mean_absolute_error, r2_score\n",
    "from sklearn.model_selection import train_test_split\n",
    "from sklearn.model_selection import train_test_split\n",
    "from sklearn.linear_model import LogisticRegression\n",
    "from sklearn.metrics import roc_auc_score, f1_score, accuracy_score\n",
    "from sklearn.datasets import make_classification\n",
    "from sklearn.model_selection import KFold\n",
    "from sklearn.model_selection import cross_val_score\n",
    "from sklearn.model_selection import StratifiedKFold\n",
    "from sklearn.model_selection import LeaveOneOut\n",
    "from sklearn.model_selection import cross_validate\n",
    "from sklearn.model_selection import cross_val_predict\n",
    "from sklearn.model_selection import TunedThresholdClassifierCV\n",
    "from sklearn.model_selection import GridSearchCV\n",
    "from sklearn.model_selection import RandomizedSearchCV"
   ]
  },
  {
   "cell_type": "code",
   "execution_count": 2,
   "metadata": {},
   "outputs": [],
   "source": [
    "# simulate a source/population with a function\n",
    "\n",
    "# underlying function\n",
    "def f(x):\n",
    "    return 1 + x + x**2 + x**3\n",
    "\n",
    "# Assumptions:\n",
    "    # one predictor (X)\n",
    "    # X is age and it is uniformly distributed between 20 and 40\n",
    "    # noise is normally distributed with constant variance and zero mean\n",
    "\n",
    "# sample the test data\n",
    "X_test_array = np.random.uniform(20, 40, 500)\n",
    "X_test = pd.DataFrame({\"X\": X_test_array})\n",
    "\n",
    "y_test_wo_noise = f(X_test_array)"
   ]
  },
  {
   "cell_type": "code",
   "execution_count": 3,
   "metadata": {},
   "outputs": [],
   "source": [
    "# calculate bias^2 and variance of a linear regression model\n",
    "\n",
    "# empty list to store values\n",
    "preds = []\n",
    "\n",
    "for i in range(100): # 100 training datasets simulated\n",
    "    np.random.seed(i)\n",
    "\n",
    "    # sample the dataset\n",
    "    X_train_array = np.random.uniform(20, 40, 500)\n",
    "    X_train = pd.DataFrame({\"X\": X_train_array})\n",
    "    y_train = f(X_train_array) + np.random.normal(0, 5, 500)\n",
    "\n",
    "    # create and train the model\n",
    "    model = LinearRegression()\n",
    "    model.fit(X_train, y_train)\n",
    "\n",
    "    # predict the values\n",
    "    y_pred = model.predict(X_test)\n",
    "\n",
    "    # store the predictions\n",
    "    preds.append(y_pred)"
   ]
  },
  {
   "cell_type": "code",
   "execution_count": 4,
   "metadata": {},
   "outputs": [
    {
     "data": {
      "text/plain": [
       "(100, 500)"
      ]
     },
     "execution_count": 4,
     "metadata": {},
     "output_type": "execute_result"
    }
   ],
   "source": [
    "preds_array = np.array(preds)\n",
    "\n",
    "preds_array.shape\n",
    "\n",
    "# each row represents one training set\n",
    "\n"
   ]
  },
  {
   "cell_type": "code",
   "execution_count": 5,
   "metadata": {},
   "outputs": [
    {
     "name": "stdout",
     "output_type": "stream",
     "text": [
      "7492353.658971884 39820.87465412698 7532199.533626012\n"
     ]
    }
   ],
   "source": [
    "e_yhat = preds_array.mean(axis = 0)\n",
    "var_yhat = preds_array.var(axis = 0)\n",
    "\n",
    "bias_sq = ((e_yhat - y_test_wo_noise)**2).mean()\n",
    "var = np.mean(var_yhat)\n",
    "\n",
    "total_error = bias_sq + var + 25\n",
    "\n",
    "print(bias_sq, var, total_error)"
   ]
  },
  {
   "cell_type": "code",
   "execution_count": null,
   "metadata": {},
   "outputs": [],
   "source": [
    "preds = []\n",
    "\n",
    "for i in range(100): # 100 training datasets simulated\n",
    "    np.random.seed(i)\n",
    "\n",
    "    # sample the dataset\n",
    "    X_train_array = np.random.uniform(20, 40, 500)\n",
    "    X_train = pd.DataFrame({\"X\": X_train_array})\n",
    "    y_train = f(X_train_array) + np.random.normal(0, 5, 500)\n",
    "\n",
    "    # X_train_poly = PolynomialFeatures(degree = 3, include_bias = False).fit_transform(X_train)\n",
    "    # X_test_poly = PolynomialFeatures(degree = 3, include_bias = False).fit_transform(X_test)"
   ]
  }
 ],
 "metadata": {
  "kernelspec": {
   "display_name": ".venv",
   "language": "python",
   "name": "python3"
  },
  "language_info": {
   "codemirror_mode": {
    "name": "ipython",
    "version": 3
   },
   "file_extension": ".py",
   "mimetype": "text/x-python",
   "name": "python",
   "nbconvert_exporter": "python",
   "pygments_lexer": "ipython3",
   "version": "3.12.1"
  }
 },
 "nbformat": 4,
 "nbformat_minor": 2
}
