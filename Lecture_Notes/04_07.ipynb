{
 "cells": [
  {
   "cell_type": "code",
   "execution_count": 1,
   "id": "6cf8c87a",
   "metadata": {},
   "outputs": [],
   "source": [
    "import pandas as pd\n",
    "import numpy as np\n",
    "import matplotlib.pyplot as plt\n",
    "import statsmodels.api as sm\n",
    "import statsmodels.formula.api as smf\n",
    "import sklearn\n",
    "from sklearn.linear_model import LinearRegression\n",
    "from sklearn.metrics import mean_squared_error, mean_absolute_error, r2_score\n",
    "from sklearn.model_selection import train_test_split\n",
    "from sklearn.model_selection import train_test_split\n",
    "from sklearn.linear_model import LogisticRegression\n",
    "from sklearn.metrics import roc_auc_score, f1_score, accuracy_score\n",
    "from sklearn.datasets import make_classification\n",
    "from sklearn.model_selection import KFold\n",
    "from sklearn.model_selection import cross_val_score\n",
    "from sklearn.model_selection import StratifiedKFold\n",
    "from sklearn.model_selection import LeaveOneOut\n",
    "from sklearn.model_selection import cross_validate\n",
    "from sklearn.model_selection import cross_val_predict\n",
    "from sklearn.model_selection import TunedThresholdClassifierCV\n",
    "from sklearn.model_selection import GridSearchCV\n",
    "from sklearn.model_selection import RandomizedSearchCV"
   ]
  },
  {
   "cell_type": "markdown",
   "id": "63908657",
   "metadata": {},
   "source": [
    "For a classifier:\n",
    "    Reducible error = Bias + Variance, NOT bias^2"
   ]
  },
  {
   "cell_type": "markdown",
   "id": "ea12e1ca",
   "metadata": {},
   "source": [
    "total error = reducible error + irreducible error\n",
    "\n",
    "irreducible error is also called \"noise\"\n",
    "\n",
    "noise = noise_prob * (2*accuracy_mean - 1)\n",
    "accuracy_mean = average accuracy of all the trained models\n",
    "noise_prob = the probability of a sample observation being misclassified due to noise -- must be found, given, or assumed beforehand"
   ]
  },
  {
   "cell_type": "markdown",
   "id": "9c80b81b",
   "metadata": {},
   "source": [
    "for a classifier: bias_i = 1 if E[Y_hat_i] /= Y_i else 0"
   ]
  },
  {
   "cell_type": "markdown",
   "id": "c008017c",
   "metadata": {},
   "source": [
    "# Classification\n",
    "- sampling from a classification data source and adding noise takes 5-10 lines of code\n",
    "- just like regression, will be simulating ___ training datasets and train/predict with __ models\n",
    "- create \"preds_matrix\" like in regression\n",
    "- extra step for classification: calculate test accuracy for each model to calculate noise for irreducible error calculation"
   ]
  },
  {
   "cell_type": "markdown",
   "id": "66153c1f",
   "metadata": {},
   "source": [
    "the following is pseudocode, doesn't run:"
   ]
  },
  {
   "cell_type": "code",
   "execution_count": null,
   "id": "19f17041",
   "metadata": {},
   "outputs": [],
   "source": [
    "preds = []\n",
    "preds_matrix = np.array(preds)\n",
    "\n",
    "# bias\n",
    "mode_pred = np.round(preds_matrix.mean(axis = 0)) # mode (expected value) for each test observation\n",
    "bias = np.mean(mode_pred != y_test) # implement the bias calc as an inequality and take the average over all observations\n",
    "\n",
    "# y_test should be without any noise\n",
    "\n",
    "# variance \n",
    "(mode_pred[i] != preds_matrix[:,i]).mean # variance of the ith test observation\n",
    "vars = [(mode_pred[i] != preds_matrix[:,i]).mean() for i in range(len(mode_pred))] # variance of each test observation\n",
    "variance = np.array(vars).mean()\n",
    "\n",
    "# noise should be given, found, or otherwise assumed\n",
    "noise_prob = .3\n",
    "noise = noise_prob * (2*np.mean(accuracies) - 1)\n",
    "total_error = bias + variance + noise"
   ]
  }
 ],
 "metadata": {
  "kernelspec": {
   "display_name": ".venv",
   "language": "python",
   "name": "python3"
  },
  "language_info": {
   "codemirror_mode": {
    "name": "ipython",
    "version": 3
   },
   "file_extension": ".py",
   "mimetype": "text/x-python",
   "name": "python",
   "nbconvert_exporter": "python",
   "pygments_lexer": "ipython3",
   "version": "3.12.1"
  }
 },
 "nbformat": 4,
 "nbformat_minor": 5
}
