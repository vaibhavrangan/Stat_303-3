{
 "cells": [
  {
   "cell_type": "markdown",
   "id": "5a056a5b",
   "metadata": {},
   "source": [
    "# Decision Trees"
   ]
  },
  {
   "cell_type": "markdown",
   "id": "926ed0f6",
   "metadata": {},
   "source": [
    "non parametric model that divides the predictor space into a number of simpler regions based on a number of subsequent decision rules"
   ]
  },
  {
   "cell_type": "markdown",
   "id": "750b717b",
   "metadata": {},
   "source": [
    "no parameters means that we have only hyperparameters to tune\n",
    "no equation to write, no cost function to minimize"
   ]
  },
  {
   "cell_type": "markdown",
   "id": "895fd1ab",
   "metadata": {},
   "source": [
    "- tree starts with the entire training dataset in the root node\n",
    "- the tree then divides the training data into two non-overlapping subsets by branching out into two child nodes\n",
    "- every branch out is based on a decision rule\n",
    "- new nodes of the tree keep branching out until a certain point\n",
    "- a node that doesn't branch out anymore is a leaf node"
   ]
  },
  {
   "cell_type": "markdown",
   "id": "204285ec",
   "metadata": {},
   "source": [
    "a decision rule at every branching node consists of one of the predictors and a threshold value imposed on it"
   ]
  },
  {
   "cell_type": "markdown",
   "id": "8859f99f",
   "metadata": {},
   "source": [
    "if we never stopped branching out, then we would only have pure nodes -- perfect training performance but terribly overfitting\n",
    "need regularization to determine when to stop branching out"
   ]
  },
  {
   "cell_type": "markdown",
   "id": "2e76af36",
   "metadata": {},
   "source": [
    "branching out - regression:\n",
    "- MSE value is calcualted with the training responses and the average response of all the training observations from the root node\n",
    "- the algorithm finds the predictor-threshold pair (decision rule) to split the observations, such that the weighted sum of the MSE at the child nodes are minimum\n",
    "    - weighted sum means that the MSE is multiplied with the number of observations at the node\n",
    "- after each branching out the total MSE of the model is the sum of MSE values of the outermost nodes\n",
    "- so at each split the algo finds the predictor-threshold pair that decreases the total weighted MSE of the tree model the most\n",
    "- the algo keeps finding new decision rules for new nodes to further decrease the total weighted MSE\n",
    "- process has to stop at a certain point"
   ]
  },
  {
   "cell_type": "markdown",
   "id": "cf6ab9b8",
   "metadata": {},
   "source": [
    "branching out - classification:\n",
    "- for classifcation the algo behaves the same way - the only deifference is the metric\n",
    "- usual classification metrics of accuracy, precision, recall, etc are not used here --> aren't sensitive enough for a decision tree\n",
    "    - you can split nodes without changing class balances, so no use in separating classes\n",
    "- use a purity metric for each node: Gini Entropy"
   ]
  },
  {
   "cell_type": "markdown",
   "id": "adfc6ed9",
   "metadata": {},
   "source": [
    "$$\n",
    "G = \\sum_{k=1}^{K} p_{mk} (1 - p_{mk})\n",
    "$$\n",
    "\n",
    "where \\( p_{mk} \\) is the proportion of observations from class \\( k \\) among all observations at node \\( m \\).\n"
   ]
  },
  {
   "cell_type": "markdown",
   "id": "730f256e",
   "metadata": {},
   "source": [
    "without any intervention, the trees would want to grow until all leaf nodes have 0 MSE/Gini"
   ]
  },
  {
   "cell_type": "code",
   "execution_count": 1,
   "id": "4ab82abd",
   "metadata": {},
   "outputs": [],
   "source": [
    "import pandas as pd\n",
    "import numpy as np\n",
    "import matplotlib.pyplot as plt\n",
    "import seaborn as sns\n",
    "\n",
    "from sklearn.tree import DecisionTreeClassifier, DecisionTreeRegressor\n",
    "from sklearn.metrics import root_mean_squared_error\n",
    "from sklearn.model_selection import GridSearchCV, KFold\n"
   ]
  },
  {
   "cell_type": "code",
   "execution_count": 2,
   "id": "cd17b24f",
   "metadata": {},
   "outputs": [],
   "source": [
    "# training data\n",
    "trainf = pd.read_csv(\"/Users/vaibhavrangan/Downloads/Stat_303-3/Datasets/Car_features_train.csv\") # predictors\n",
    "trainp = pd.read_csv(\"/Users/vaibhavrangan/Downloads/Stat_303-3/Datasets/Car_prices_train.csv\") # response\n",
    "train =  pd.merge(trainf, trainp)\n",
    "\n",
    "# test data\n",
    "testf = pd.read_csv(\"/Users/vaibhavrangan/Downloads/Stat_303-3/Datasets/Car_features_test.csv\") # predictors\n",
    "testp = pd.read_csv(\"/Users/vaibhavrangan/Downloads/Stat_303-3/Datasets/Car_prices_test.csv\") # response\n",
    "test = pd.merge(testf, testp)\n",
    "\n",
    "predictors = [\"mpg\", \"engineSize\", \"year\", \"mileage\"]\n",
    "\n",
    "X_train = train[predictors]\n",
    "y_train = train[\"price\"]\n",
    "\n",
    "X_test = test[predictors]\n",
    "y_test = test[\"price\"]"
   ]
  },
  {
   "cell_type": "markdown",
   "id": "65ac0359",
   "metadata": {},
   "source": [
    "No scaling necessary for decision trees"
   ]
  },
  {
   "cell_type": "code",
   "execution_count": 3,
   "id": "6cfcf217",
   "metadata": {},
   "outputs": [
    {
     "data": {
      "text/plain": [
       "8451.77283918831"
      ]
     },
     "execution_count": 3,
     "metadata": {},
     "output_type": "execute_result"
    }
   ],
   "source": [
    "tree_model = DecisionTreeRegressor(\n",
    "    random_state=12, # to be fixed not tuned\n",
    "    max_depth = 5, # limits the number of levels (branching out) in the tree: FIRST HYPERPARAMETER TO TUNE\n",
    "    max_leaf_nodes = 40 # limits the number of leaf nodes in the tree: SECOND HYPERPARAMETER TO TUNE\n",
    ")\n",
    "\n",
    "tree_model.fit(X_train, y_train)\n",
    "\n",
    "y_pred = tree_model.predict(X_test)\n",
    "root_mean_squared_error(y_test, y_pred)"
   ]
  }
 ],
 "metadata": {
  "kernelspec": {
   "display_name": ".venv",
   "language": "python",
   "name": "python3"
  },
  "language_info": {
   "codemirror_mode": {
    "name": "ipython",
    "version": 3
   },
   "file_extension": ".py",
   "mimetype": "text/x-python",
   "name": "python",
   "nbconvert_exporter": "python",
   "pygments_lexer": "ipython3",
   "version": "3.12.1"
  }
 },
 "nbformat": 4,
 "nbformat_minor": 5
}
