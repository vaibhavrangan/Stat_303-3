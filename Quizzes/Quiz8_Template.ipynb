{
 "cells": [
  {
   "cell_type": "raw",
   "id": "bd144dd7-391b-419e-9ee4-5d37cb59dea9",
   "metadata": {},
   "source": [
    "---\n",
    "title: \"Quiz 8\"\n",
    "subtitle: \"Tuning a Decision Tree\"\n",
    "format: \n",
    "  html:\n",
    "    toc: true\n",
    "    toc-title: Contents\n",
    "    toc-depth: 4\n",
    "    code-fold: show\n",
    "    embed-resources: true\n",
    "jupyter: python3\n",
    "---"
   ]
  },
  {
   "cell_type": "code",
   "execution_count": 1,
   "id": "9ed67330-8c6a-4564-85a5-edd3013761df",
   "metadata": {},
   "outputs": [],
   "source": [
    "import pandas as pd\n",
    "import numpy as np\n",
    "import matplotlib.pyplot as plt\n",
    "import seaborn as sns\n",
    "\n",
    "from sklearn.tree import DecisionTreeClassifier, DecisionTreeRegressor\n",
    "from sklearn.metrics import root_mean_squared_error\n",
    "from sklearn.model_selection import GridSearchCV, KFold\n",
    "from sklearn.model_selection import train_test_split\n",
    "from sklearn.model_selection import RepeatedStratifiedKFold\n",
    "\n",
    "\n"
   ]
  },
  {
   "cell_type": "code",
   "execution_count": 2,
   "id": "5fee2af5-5d94-44d6-8dfe-c46cc4b02501",
   "metadata": {},
   "outputs": [],
   "source": [
    "data = pd.read_csv('/Users/vaibhavrangan/Downloads/Stat_303-3/Datasets/diabetes.csv')\n",
    "\n",
    "y = data['Outcome']\n",
    "X = data.drop('Outcome', axis=1)"
   ]
  },
  {
   "cell_type": "markdown",
   "id": "66d8fe99",
   "metadata": {},
   "source": [
    "# Question 1"
   ]
  },
  {
   "cell_type": "code",
   "execution_count": 3,
   "id": "02b7dee7",
   "metadata": {},
   "outputs": [],
   "source": [
    "x_train, x_test, y_train, y_test = train_test_split(X, y, test_size=0.25, random_state=1, stratify=y)\n"
   ]
  },
  {
   "cell_type": "markdown",
   "id": "b0da93bf",
   "metadata": {},
   "source": [
    "# Question 2"
   ]
  },
  {
   "cell_type": "code",
   "execution_count": 4,
   "id": "59c2d45f",
   "metadata": {},
   "outputs": [
    {
     "name": "stdout",
     "output_type": "stream",
     "text": [
      "Fitting 15 folds for each of 75 candidates, totalling 1125 fits\n",
      "Fitting 15 folds for each of 75 candidates, totalling 1125 fits\n",
      "Fitting 15 folds for each of 75 candidates, totalling 1125 fits\n",
      "0.7575362318840579\n",
      "{'max_depth': 2, 'max_leaf_nodes': 10}\n"
     ]
    }
   ],
   "source": [
    "cv = RepeatedStratifiedKFold(n_splits=5, n_repeats=3, random_state=1)\n",
    "\n",
    "max_depth_range = list(range(1, 16))\n",
    "leaf_range = list(range(10, 160, 10))\n",
    "depth_chunk_size = 5\n",
    "\n",
    "best_score = 0\n",
    "best_model = None\n",
    "best_params = None\n",
    "\n",
    "for i in range(0, len(max_depth_range), depth_chunk_size):\n",
    "    depth_chunk = max_depth_range[i:i+depth_chunk_size]\n",
    "    grid = {\n",
    "        \"max_depth\": depth_chunk,\n",
    "        \"max_leaf_nodes\": leaf_range\n",
    "    }\n",
    "    tree_model = DecisionTreeClassifier(\n",
    "    random_state=12, # to be fixed not tuned\n",
    ")\n",
    "\n",
    "    gscv = GridSearchCV(tree_model, grid, cv=cv, scoring=\"accuracy\", verbose = 1, n_jobs=-1)\n",
    "    gscv.fit(x_train, y_train)\n",
    "\n",
    "    if gscv.best_score_ > best_score:\n",
    "        best_score = gscv.best_score_\n",
    "        best_model = gscv.best_estimator_\n",
    "        best_params = gscv.best_params_\n",
    "\n",
    "print(best_score)\n",
    "print(best_params)"
   ]
  }
 ],
 "metadata": {
  "kernelspec": {
   "display_name": ".venv",
   "language": "python",
   "name": "python3"
  },
  "language_info": {
   "codemirror_mode": {
    "name": "ipython",
    "version": 3
   },
   "file_extension": ".py",
   "mimetype": "text/x-python",
   "name": "python",
   "nbconvert_exporter": "python",
   "pygments_lexer": "ipython3",
   "version": "3.12.1"
  }
 },
 "nbformat": 4,
 "nbformat_minor": 5
}
